{
 "cells": [
  {
   "cell_type": "code",
   "execution_count": 2,
   "id": "3d4996bd",
   "metadata": {},
   "outputs": [],
   "source": [
    "import falcon\n",
    "from datetime import datetime"
   ]
  },
  {
   "cell_type": "code",
   "execution_count": 3,
   "id": "738bde70",
   "metadata": {},
   "outputs": [],
   "source": [
    "nivel_S=512 #nivel de seguridad\n",
    "\n",
    "# Generación de claves para CA\n",
    "def generate_ca_keypair(nivel_S):\n",
    "    private_key = falcon.SecretKey(nivel_S)\n",
    "    public_key = falcon.PublicKey(sk)\n",
    "    return private_key, public_key\n",
    "\n",
    "# Generación de claves para certificados\n",
    "def generate_cert_keypair(nivel_S):\n",
    "    private_key = falcon.SecretKey(nivel_S)\n",
    "    public_key = falcon.PublicKey(sk)\n",
    "    return private_key, public_key\n",
    "\n",
    "# Funciones de firma\n",
    "\n",
    "def generate_signature(private_key, data):\n",
    "    datos= bytes(data, 'utf-8')\n",
    "    firma = sk.sign(b\"Hello\")\n",
    "    # Simula la generación de una firma utilizando la clave privada\n",
    "    return firma\n",
    "\n",
    "# Verificación de firma\n",
    "def verify_signature(public_key, data, firma):\n",
    "    pk=public_key\n",
    "    datos= bytes(data, 'utf-8')\n",
    "    return pk.verify(datos, firma)\n"
   ]
  },
  {
   "cell_type": "code",
   "execution_count": 8,
   "id": "60d2c5eb",
   "metadata": {},
   "outputs": [],
   "source": [
    "# Crear Autoridad Certificadora (CA)\n",
    "def Crear_Autoridad():\n",
    "    ca_private_key, ca_public_key = generate_ca_keypair()\n",
    "    nombre_Autoridad=input(str())\n",
    "    email           =input(str())\n",
    "    pais            =input(str())\n",
    "    data_Autoridad={\n",
    "        'Autoridad':nombre_Autoridad,\n",
    "        'País':pais,\n",
    "        'e-mail':email\n",
    "    }\n",
    "    return {data_Autoridad,ca_private_key, ca_public_key}"
   ]
  },
  {
   "cell_type": "code",
   "execution_count": 9,
   "id": "daa91bde",
   "metadata": {},
   "outputs": [],
   "source": [
    "# Solicitud de certificado\n",
    "def Solicitud_Certificado():\n",
    "    cert_private_key, cert_public_key = generate_cert_keypair()\n",
    "    nombre=input(str)\n",
    "    \n",
    "    cert_data = {\n",
    "    'subject': nombre,\n",
    "    'public_key': cert_public_key}\n",
    "    \n",
    "    return cert_data\n"
   ]
  },
  {
   "cell_type": "code",
   "execution_count": 36,
   "id": "157a906f",
   "metadata": {},
   "outputs": [],
   "source": [
    "def Generacion_Certificado_Autoridad(solicitud_Certificado,Autoridad):\n",
    "    datos=Autoridad[0]\n",
    "    llave_privada=Autoridad[1]\n",
    "    # Firma del certificado por la CA\n",
    "    certificado_datos=solicitud_Certificado\n",
    "    certificado_datos['Fecha']=datetime(2025, 1, 1)\n",
    "    certificado_firmado= sign_data(llave_privada, str(certificado_datos))\n",
    "    \n",
    "    return {certificado_firmado,certificado_datos}"
   ]
  },
  {
   "cell_type": "code",
   "execution_count": null,
   "id": "f82cd492",
   "metadata": {},
   "outputs": [],
   "source": [
    "def Frame(mensaje,certificado,llave_privada):\n",
    "    sk=llave_publica\n",
    "    mensaje=bytes(mensaje, 'utf-8')\n",
    "    firma=sk.sign(mensaje)\n",
    "    frame={'Certificado_Datos':certificado[1],\n",
    "           \n",
    "           'Mensaje_firmado':firma}\n",
    "    return frame"
   ]
  },
  {
   "cell_type": "code",
   "execution_count": null,
   "id": "83a13a69",
   "metadata": {},
   "outputs": [],
   "source": [
    "def Verificacion_Certificado(ca_public_key,solicitud_Certificado,ca_signature):\n",
    "    cert_data=solicitud_Certificado[0]\n",
    "    cert_public_key=solicitud_Certificado[1]\n",
    "    # Verificar la firma de la CA en el certificado\n",
    "    ca_verification_result = verify_signature(ca_public_key, str(cert_data), ca_signature)\n",
    "    if ca_verification_result:\n",
    "        print(\"Firma de la CA verificada correctamente en el certificado.\")\n",
    "        \n",
    "        return True\n",
    "    else:\n",
    "        print(\"Firma de la CA no válida en el certificado.\")\n",
    "        return False"
   ]
  },
  {
   "cell_type": "code",
   "execution_count": null,
   "id": "8e5e8326",
   "metadata": {},
   "outputs": [],
   "source": [
    "\n",
    "\n",
    "# Verificar el certificado utilizando la clave pública del certificado\n",
    "cert_signature = sign_data(cert_private_key, str(cert_data))\n",
    "cert_verification_result = verify_signature(cert_public_key, str(cert_data), cert_signature)\n",
    "if cert_verification_result:\n",
    "    print(\"Certificado verificado correctamente.\")\n",
    "else:\n",
    "    print(\"Certificado no válido.\")\n",
    "\n",
    "# Aquí tendrías que almacenar la clave pública de la CA y el certificado en un lugar seguro\n"
   ]
  },
  {
   "cell_type": "code",
   "execution_count": 13,
   "id": "4d307a69",
   "metadata": {},
   "outputs": [],
   "source": [
    "cert_data = {\n",
    "    'subject': 'Nombre del Propietario',\n",
    "    'issuer': 'Autoridad Certificadora',\n",
    "    'public_key': \"2\"\n",
    "}"
   ]
  },
  {
   "cell_type": "code",
   "execution_count": 16,
   "id": "9f22ba45",
   "metadata": {},
   "outputs": [
    {
     "data": {
      "text/plain": [
       "'2'"
      ]
     },
     "execution_count": 16,
     "metadata": {},
     "output_type": "execute_result"
    }
   ],
   "source": [
    "cert_data['public_key']"
   ]
  },
  {
   "cell_type": "code",
   "execution_count": 35,
   "id": "a93fdfa9",
   "metadata": {},
   "outputs": [
    {
     "name": "stdout",
     "output_type": "stream",
     "text": [
      "True\n"
     ]
    }
   ],
   "source": [
    "#Es necesario importar las depencendias necesarias\n",
    "\n",
    "from datetime import datetime\n",
    " \n",
    "#Día actual\n",
    "today = datetime.now()\n",
    "fecha1 = datetime(2020, 1, 1)\n",
    "\n",
    "print(today>fecha1)\n",
    "\n",
    "\n"
   ]
  },
  {
   "cell_type": "code",
   "execution_count": null,
   "id": "b46a4987",
   "metadata": {},
   "outputs": [],
   "source": []
  }
 ],
 "metadata": {
  "kernelspec": {
   "display_name": "Criptografia",
   "language": "python",
   "name": "criptografia"
  },
  "language_info": {
   "codemirror_mode": {
    "name": "ipython",
    "version": 3
   },
   "file_extension": ".py",
   "mimetype": "text/x-python",
   "name": "python",
   "nbconvert_exporter": "python",
   "pygments_lexer": "ipython3",
   "version": "3.7.12"
  }
 },
 "nbformat": 4,
 "nbformat_minor": 5
}
