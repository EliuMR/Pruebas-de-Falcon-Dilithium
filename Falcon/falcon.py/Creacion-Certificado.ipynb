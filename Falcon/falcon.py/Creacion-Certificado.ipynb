{
 "cells": [
  {
   "cell_type": "code",
   "execution_count": 1,
   "id": "3d4996bd",
   "metadata": {},
   "outputs": [],
   "source": [
    "import falcon\n",
    "from datetime import datetime"
   ]
  },
  {
   "cell_type": "code",
   "execution_count": 2,
   "id": "738bde70",
   "metadata": {},
   "outputs": [],
   "source": [
    "nivel_S=512 #nivel de seguridad\n",
    "\n",
    "# Generación de claves para CA\n",
    "def generate_ca_keypair(nivel_S):\n",
    "    private_key = falcon.SecretKey(nivel_S)\n",
    "    public_key = falcon.PublicKey(private_key)\n",
    "    return private_key, public_key\n",
    "\n",
    "# Generación de claves para certificados\n",
    "def generate_cert_keypair(nivel_S):\n",
    "    private_key = falcon.SecretKey(nivel_S)\n",
    "    public_key = falcon.PublicKey(private_key)\n",
    "    return private_key, public_key\n",
    "\n",
    "# Funciones de firma\n",
    "\n",
    "def generate_signature(private_key, data):\n",
    "    datos= bytes(data, 'utf-8')\n",
    "    sk=private_key\n",
    "    firma = sk.sign(datos)\n",
    "    # Simula la generación de una firma utilizando la clave privada\n",
    "    return firma\n",
    "\n",
    "# Verificación de firma\n",
    "def verify_signature(public_key, data, firma):\n",
    "    pk=public_key\n",
    "    datos= bytes(data, 'utf-8')\n",
    "    return pk.verify(datos, firma)\n"
   ]
  },
  {
   "cell_type": "code",
   "execution_count": 3,
   "id": "60d2c5eb",
   "metadata": {},
   "outputs": [],
   "source": [
    "# Crear Autoridad Certificadora (CA)\n",
    "def Crear_Autoridad():\n",
    "    nivel_S=512 \n",
    "    ca_private_key, ca_public_key = generate_ca_keypair(nivel_S)\n",
    "    print(\"Escriba nombre de la autoridad\")\n",
    "    nombre_Autoridad=input(str())\n",
    "    print(\"Escriba el email\")\n",
    "    email           =input(str())\n",
    "    print(\"Pais de origen\")\n",
    "    pais            =input(str())\n",
    "    data_Autoridad={\n",
    "        'Autoridad':nombre_Autoridad,\n",
    "        'País':pais,\n",
    "        'e-mail':email\n",
    "    }\n",
    "    #print(data_Autoridad,ca_private_key, ca_public_key)\n",
    "    return data_Autoridad,ca_private_key, ca_public_key"
   ]
  },
  {
   "cell_type": "code",
   "execution_count": 4,
   "id": "daa91bde",
   "metadata": {},
   "outputs": [],
   "source": [
    "# Solicitud de certificado\n",
    "def Solicitud_Certificado():\n",
    "    nivel_S=512\n",
    "    cert_private_key, cert_public_key = generate_cert_keypair(nivel_S)\n",
    "    print(\"Nombre solicitante\")\n",
    "    nombre=input(str)\n",
    "    \n",
    "    cert_data = {\n",
    "    'subject': nombre,\n",
    "    'public_key': cert_public_key}\n",
    "    #print(cert_data)\n",
    "    return cert_data,cert_private_key\n"
   ]
  },
  {
   "cell_type": "code",
   "execution_count": 5,
   "id": "157a906f",
   "metadata": {},
   "outputs": [],
   "source": [
    "def Generacion_Certificado_Autoridad(solicitud_Certificado,Autoridad):\n",
    "    datos=Autoridad[0]\n",
    "    llave_privada=Autoridad[1]\n",
    "    # Firma del certificado por la CA\n",
    "    certificado_datos=solicitud_Certificado\n",
    "    certificado_datos['Fecha']=datetime(2025, 1, 1)\n",
    "    certificado_firmado= generate_signature(llave_privada, str(certificado_datos))\n",
    "    #print(certificado_firmado,certificado_datos)\n",
    "    return certificado_firmado,certificado_datos"
   ]
  },
  {
   "cell_type": "code",
   "execution_count": 6,
   "id": "f82cd492",
   "metadata": {},
   "outputs": [],
   "source": [
    "def Frame(mensaje,certificado,llave_privada):\n",
    "    sk=llave_privada\n",
    "    mensaje_=bytes(mensaje, 'utf-8')\n",
    "    firma=sk.sign(mensaje_)\n",
    "    frame={'Certificado_Datos':certificado[1],\n",
    "           'Firma_del_Certificado':certificado[0],\n",
    "           'Mensaje':mensaje,\n",
    "           'Mensaje_firmado':firma}\n",
    "    #print(frame)\n",
    "    return frame"
   ]
  },
  {
   "cell_type": "code",
   "execution_count": 7,
   "id": "83a13a69",
   "metadata": {},
   "outputs": [],
   "source": [
    "def Verificacion_Certificado(ca_public_key,Frame):\n",
    "    certificado_datos=Frame['Certificado_Datos']\n",
    "    firma_certificado=Frame['Firma_del_Certificado']\n",
    "    mensaje=Frame['Mensaje']\n",
    "    mensaje_firmado=Frame['Mensaje_firmado']\n",
    "    llave_publica_solicitante=certificado_datos['public_key'] #Llave publica del que manda el msj\n",
    "    # Verificar la firma de la CA en el certificado\n",
    "    ca_verification_result = verify_signature(ca_public_key, str(certificado_datos),firma_certificado)\n",
    "    if ca_verification_result:\n",
    "        print(\"Firma de la CA verificada correctamente en el certificado.\")\n",
    "        fecha_expiracion=certificado_datos['Fecha']\n",
    "        hoy = datetime.now()\n",
    "        if hoy<fecha_expiracion:\n",
    "            \n",
    "            if verify_signature(llave_publica_solicitante,str(mensaje),mensaje_firmado):\n",
    "                print(\"Firma del certificado verificada\")\n",
    "                return True\n",
    "            \n",
    "            \n",
    "        else:\n",
    "            print(\"El certificado ha expirado\")\n",
    "            return False\n",
    "    else:\n",
    "        print(\"Firma de la CA no válida en el certificado.\")\n",
    "        return False"
   ]
  },
  {
   "cell_type": "code",
   "execution_count": 8,
   "id": "0c737d05",
   "metadata": {},
   "outputs": [
    {
     "name": "stdout",
     "output_type": "stream",
     "text": [
      "Escriba nombre de la autoridad\n",
      "Autoridad\n",
      "Escriba el email\n",
      "ca@gmail.com\n",
      "Pais de origen\n",
      "Mx\n"
     ]
    }
   ],
   "source": [
    "Autoridad=Crear_Autoridad()"
   ]
  },
  {
   "cell_type": "code",
   "execution_count": 9,
   "id": "5e2e147b",
   "metadata": {},
   "outputs": [
    {
     "name": "stdout",
     "output_type": "stream",
     "text": [
      "Nombre solicitante\n",
      "<class 'str'>Eliu\n"
     ]
    }
   ],
   "source": [
    "sc,llave_privada=Solicitud_Certificado()"
   ]
  },
  {
   "cell_type": "code",
   "execution_count": 10,
   "id": "2d8ab624",
   "metadata": {},
   "outputs": [],
   "source": [
    "GS=Generacion_Certificado_Autoridad(sc,Autoridad)"
   ]
  },
  {
   "cell_type": "code",
   "execution_count": 11,
   "id": "dcdafb89",
   "metadata": {},
   "outputs": [],
   "source": [
    "frame= Frame(\"mensaje\",GS,llave_privada)"
   ]
  },
  {
   "cell_type": "code",
   "execution_count": 12,
   "id": "86a98d5c",
   "metadata": {},
   "outputs": [
    {
     "name": "stdout",
     "output_type": "stream",
     "text": [
      "Firma de la CA verificada correctamente en el certificado.\n",
      "Firma del certificado verificada\n"
     ]
    }
   ],
   "source": [
    "verificacion=Verificacion_Certificado(Autoridad[2],frame)"
   ]
  },
  {
   "cell_type": "code",
   "execution_count": null,
   "id": "b0557982",
   "metadata": {},
   "outputs": [],
   "source": []
  }
 ],
 "metadata": {
  "kernelspec": {
   "display_name": "Cripto",
   "language": "python",
   "name": "cripto"
  },
  "language_info": {
   "codemirror_mode": {
    "name": "ipython",
    "version": 3
   },
   "file_extension": ".py",
   "mimetype": "text/x-python",
   "name": "python",
   "nbconvert_exporter": "python",
   "pygments_lexer": "ipython3",
   "version": "3.6.9"
  }
 },
 "nbformat": 4,
 "nbformat_minor": 5
}
