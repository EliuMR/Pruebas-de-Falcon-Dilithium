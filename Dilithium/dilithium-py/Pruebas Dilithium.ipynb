{
 "cells": [
  {
   "cell_type": "code",
   "execution_count": 1,
   "id": "09a1fdaf",
   "metadata": {},
   "outputs": [],
   "source": [
    "from dilithium import Dilithium2\n",
    "\n",
    "# Example of signing\n",
    "pk, sk = Dilithium2.keygen()\n",
    "msg = b\"Your message signed by Dilithium\"\n",
    "sig = Dilithium2.sign(sk, msg)\n"
   ]
  },
  {
   "cell_type": "code",
   "execution_count": 4,
   "id": "0d98f7d9",
   "metadata": {},
   "outputs": [
    {
     "data": {
      "text/plain": [
       "b'Your message signed by Dilithium'"
      ]
     },
     "execution_count": 4,
     "metadata": {},
     "output_type": "execute_result"
    }
   ],
   "source": [
    "msg"
   ]
  },
  {
   "cell_type": "code",
   "execution_count": 5,
   "id": "ee0323f5",
   "metadata": {},
   "outputs": [
    {
     "data": {
      "text/plain": [
       "True"
      ]
     },
     "execution_count": 5,
     "metadata": {},
     "output_type": "execute_result"
    }
   ],
   "source": [
    "Dilithium2.verify(pk, msg, sig)"
   ]
  },
  {
   "cell_type": "code",
   "execution_count": 6,
   "id": "17b82b26",
   "metadata": {},
   "outputs": [
    {
     "data": {
      "text/plain": [
       "False"
      ]
     },
     "execution_count": 6,
     "metadata": {},
     "output_type": "execute_result"
    }
   ],
   "source": [
    "Dilithium2.verify(pk, b\"\", sig)"
   ]
  },
  {
   "cell_type": "code",
   "execution_count": 7,
   "id": "c2ab1fcf",
   "metadata": {},
   "outputs": [],
   "source": [
    "pk_new, sk_new = Dilithium2.keygen()"
   ]
  },
  {
   "cell_type": "code",
   "execution_count": 8,
   "id": "bad462c5",
   "metadata": {},
   "outputs": [
    {
     "data": {
      "text/plain": [
       "False"
      ]
     },
     "execution_count": 8,
     "metadata": {},
     "output_type": "execute_result"
    }
   ],
   "source": [
    "Dilithium2.verify(pk_new, msg, sig)"
   ]
  },
  {
   "cell_type": "code",
   "execution_count": null,
   "id": "2d4c832d",
   "metadata": {},
   "outputs": [],
   "source": []
  }
 ],
 "metadata": {
  "kernelspec": {
   "display_name": "Criptografia",
   "language": "python",
   "name": "criptografia"
  },
  "language_info": {
   "codemirror_mode": {
    "name": "ipython",
    "version": 3
   },
   "file_extension": ".py",
   "mimetype": "text/x-python",
   "name": "python",
   "nbconvert_exporter": "python",
   "pygments_lexer": "ipython3",
   "version": "3.7.12"
  }
 },
 "nbformat": 4,
 "nbformat_minor": 5
}
